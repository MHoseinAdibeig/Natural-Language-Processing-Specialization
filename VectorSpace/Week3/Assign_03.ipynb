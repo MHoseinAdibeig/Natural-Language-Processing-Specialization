{
  "cells": [
    {
      "cell_type": "code",
      "execution_count": 1,
      "metadata": {
        "colab": {
          "base_uri": "https://localhost:8080/"
        },
        "id": "sa1XanYSRgz2",
        "outputId": "663e2454-ab29-4703-ff84-08ce68c1b9d8"
      },
      "outputs": [
        {
          "name": "stdout",
          "output_type": "stream",
          "text": [
            "Mounted at /content/Mydrive/\n"
          ]
        }
      ],
      "source": [
        "from google.colab import drive\n",
        "drive.mount('/content/Mydrive/')"
      ]
    },
    {
      "cell_type": "code",
      "execution_count": 2,
      "metadata": {
        "id": "6qiEsm9VQaRf"
      },
      "outputs": [],
      "source": [
        "import numpy as np\n",
        "\n",
        "\n",
        "def get_vectors(embeddings, words):\n",
        "    \"\"\"\n",
        "    Input:\n",
        "        embeddings: a word\n",
        "        fr_embeddings:\n",
        "        words: a list of words\n",
        "    Output:\n",
        "        X: a matrix where the rows are the embeddings corresponding to the rows on the list\n",
        "\n",
        "    \"\"\"\n",
        "    m = len(words)\n",
        "    X = np.zeros((1, 300))\n",
        "    for word in words:\n",
        "        english = word\n",
        "        eng_emb = embeddings[english]\n",
        "        X = np.row_stack((X, eng_emb))\n",
        "    X = X[1:,:]\n",
        "    return X"
      ]
    },
    {
      "cell_type": "code",
      "execution_count": 3,
      "metadata": {
        "id": "XPZ5qIOLRfXQ"
      },
      "outputs": [],
      "source": [
        "import pickle\n",
        "import numpy as np\n",
        "import pandas as pd\n",
        "import matplotlib.pyplot as plt\n",
        "\n"
      ]
    },
    {
      "cell_type": "code",
      "execution_count": 4,
      "metadata": {
        "colab": {
          "base_uri": "https://localhost:8080/"
        },
        "id": "nMFabOjvSxZ9",
        "outputId": "b0f3e5cb-400b-47b8-c1b2-bd7d94bc651b"
      },
      "outputs": [
        {
          "name": "stdout",
          "output_type": "stream",
          "text": [
            "/content/Mydrive/MyDrive/MHoseinAdibeig/NLP\n"
          ]
        }
      ],
      "source": [
        "%cd '/content/Mydrive/MyDrive/MHoseinAdibeig/NLP'"
      ]
    },
    {
      "cell_type": "code",
      "execution_count": 5,
      "metadata": {
        "colab": {
          "base_uri": "https://localhost:8080/",
          "height": 206
        },
        "id": "RBTDNpxySwP3",
        "outputId": "facbad83-efd1-40a0-ff12-6e4de37eec53"
      },
      "outputs": [
        {
          "data": {
            "application/vnd.google.colaboratory.intrinsic+json": {
              "summary": "{\n  \"name\": \"data\",\n  \"rows\": 4951,\n  \"fields\": [\n    {\n      \"column\": \"city1\",\n      \"properties\": {\n        \"dtype\": \"category\",\n        \"num_unique_values\": 115,\n        \"samples\": [\n          \"Muscat\",\n          \"Berlin\",\n          \"Bratislava\"\n        ],\n        \"semantic_type\": \"\",\n        \"description\": \"\"\n      }\n    },\n    {\n      \"column\": \"country1\",\n      \"properties\": {\n        \"dtype\": \"category\",\n        \"num_unique_values\": 115,\n        \"samples\": [\n          \"Oman\",\n          \"Germany\",\n          \"Slovakia\"\n        ],\n        \"semantic_type\": \"\",\n        \"description\": \"\"\n      }\n    },\n    {\n      \"column\": \"city2\",\n      \"properties\": {\n        \"dtype\": \"category\",\n        \"num_unique_values\": 115,\n        \"samples\": [\n          \"Nairobi\",\n          \"Cairo\",\n          \"Brussels\"\n        ],\n        \"semantic_type\": \"\",\n        \"description\": \"\"\n      }\n    },\n    {\n      \"column\": \"country2\",\n      \"properties\": {\n        \"dtype\": \"category\",\n        \"num_unique_values\": 115,\n        \"samples\": [\n          \"Kenya\",\n          \"Egypt\",\n          \"Belgium\"\n        ],\n        \"semantic_type\": \"\",\n        \"description\": \"\"\n      }\n    }\n  ]\n}",
              "type": "dataframe",
              "variable_name": "data"
            },
            "text/html": [
              "\n",
              "  <div id=\"df-701a8861-fff0-47d5-81c2-b15368d7037e\" class=\"colab-df-container\">\n",
              "    <div>\n",
              "<style scoped>\n",
              "    .dataframe tbody tr th:only-of-type {\n",
              "        vertical-align: middle;\n",
              "    }\n",
              "\n",
              "    .dataframe tbody tr th {\n",
              "        vertical-align: top;\n",
              "    }\n",
              "\n",
              "    .dataframe thead th {\n",
              "        text-align: right;\n",
              "    }\n",
              "</style>\n",
              "<table border=\"1\" class=\"dataframe\">\n",
              "  <thead>\n",
              "    <tr style=\"text-align: right;\">\n",
              "      <th></th>\n",
              "      <th>city1</th>\n",
              "      <th>country1</th>\n",
              "      <th>city2</th>\n",
              "      <th>country2</th>\n",
              "    </tr>\n",
              "  </thead>\n",
              "  <tbody>\n",
              "    <tr>\n",
              "      <th>0</th>\n",
              "      <td>Athens</td>\n",
              "      <td>Greece</td>\n",
              "      <td>Bangkok</td>\n",
              "      <td>Thailand</td>\n",
              "    </tr>\n",
              "    <tr>\n",
              "      <th>1</th>\n",
              "      <td>Athens</td>\n",
              "      <td>Greece</td>\n",
              "      <td>Beijing</td>\n",
              "      <td>China</td>\n",
              "    </tr>\n",
              "    <tr>\n",
              "      <th>2</th>\n",
              "      <td>Athens</td>\n",
              "      <td>Greece</td>\n",
              "      <td>Berlin</td>\n",
              "      <td>Germany</td>\n",
              "    </tr>\n",
              "    <tr>\n",
              "      <th>3</th>\n",
              "      <td>Athens</td>\n",
              "      <td>Greece</td>\n",
              "      <td>Bern</td>\n",
              "      <td>Switzerland</td>\n",
              "    </tr>\n",
              "    <tr>\n",
              "      <th>4</th>\n",
              "      <td>Athens</td>\n",
              "      <td>Greece</td>\n",
              "      <td>Cairo</td>\n",
              "      <td>Egypt</td>\n",
              "    </tr>\n",
              "  </tbody>\n",
              "</table>\n",
              "</div>\n",
              "    <div class=\"colab-df-buttons\">\n",
              "\n",
              "  <div class=\"colab-df-container\">\n",
              "    <button class=\"colab-df-convert\" onclick=\"convertToInteractive('df-701a8861-fff0-47d5-81c2-b15368d7037e')\"\n",
              "            title=\"Convert this dataframe to an interactive table.\"\n",
              "            style=\"display:none;\">\n",
              "\n",
              "  <svg xmlns=\"http://www.w3.org/2000/svg\" height=\"24px\" viewBox=\"0 -960 960 960\">\n",
              "    <path d=\"M120-120v-720h720v720H120Zm60-500h600v-160H180v160Zm220 220h160v-160H400v160Zm0 220h160v-160H400v160ZM180-400h160v-160H180v160Zm440 0h160v-160H620v160ZM180-180h160v-160H180v160Zm440 0h160v-160H620v160Z\"/>\n",
              "  </svg>\n",
              "    </button>\n",
              "\n",
              "  <style>\n",
              "    .colab-df-container {\n",
              "      display:flex;\n",
              "      gap: 12px;\n",
              "    }\n",
              "\n",
              "    .colab-df-convert {\n",
              "      background-color: #E8F0FE;\n",
              "      border: none;\n",
              "      border-radius: 50%;\n",
              "      cursor: pointer;\n",
              "      display: none;\n",
              "      fill: #1967D2;\n",
              "      height: 32px;\n",
              "      padding: 0 0 0 0;\n",
              "      width: 32px;\n",
              "    }\n",
              "\n",
              "    .colab-df-convert:hover {\n",
              "      background-color: #E2EBFA;\n",
              "      box-shadow: 0px 1px 2px rgba(60, 64, 67, 0.3), 0px 1px 3px 1px rgba(60, 64, 67, 0.15);\n",
              "      fill: #174EA6;\n",
              "    }\n",
              "\n",
              "    .colab-df-buttons div {\n",
              "      margin-bottom: 4px;\n",
              "    }\n",
              "\n",
              "    [theme=dark] .colab-df-convert {\n",
              "      background-color: #3B4455;\n",
              "      fill: #D2E3FC;\n",
              "    }\n",
              "\n",
              "    [theme=dark] .colab-df-convert:hover {\n",
              "      background-color: #434B5C;\n",
              "      box-shadow: 0px 1px 3px 1px rgba(0, 0, 0, 0.15);\n",
              "      filter: drop-shadow(0px 1px 2px rgba(0, 0, 0, 0.3));\n",
              "      fill: #FFFFFF;\n",
              "    }\n",
              "  </style>\n",
              "\n",
              "    <script>\n",
              "      const buttonEl =\n",
              "        document.querySelector('#df-701a8861-fff0-47d5-81c2-b15368d7037e button.colab-df-convert');\n",
              "      buttonEl.style.display =\n",
              "        google.colab.kernel.accessAllowed ? 'block' : 'none';\n",
              "\n",
              "      async function convertToInteractive(key) {\n",
              "        const element = document.querySelector('#df-701a8861-fff0-47d5-81c2-b15368d7037e');\n",
              "        const dataTable =\n",
              "          await google.colab.kernel.invokeFunction('convertToInteractive',\n",
              "                                                    [key], {});\n",
              "        if (!dataTable) return;\n",
              "\n",
              "        const docLinkHtml = 'Like what you see? Visit the ' +\n",
              "          '<a target=\"_blank\" href=https://colab.research.google.com/notebooks/data_table.ipynb>data table notebook</a>'\n",
              "          + ' to learn more about interactive tables.';\n",
              "        element.innerHTML = '';\n",
              "        dataTable['output_type'] = 'display_data';\n",
              "        await google.colab.output.renderOutput(dataTable, element);\n",
              "        const docLink = document.createElement('div');\n",
              "        docLink.innerHTML = docLinkHtml;\n",
              "        element.appendChild(docLink);\n",
              "      }\n",
              "    </script>\n",
              "  </div>\n",
              "\n",
              "\n",
              "<div id=\"df-5872ef23-1bbc-477f-99de-ee2c95070bd9\">\n",
              "  <button class=\"colab-df-quickchart\" onclick=\"quickchart('df-5872ef23-1bbc-477f-99de-ee2c95070bd9')\"\n",
              "            title=\"Suggest charts\"\n",
              "            style=\"display:none;\">\n",
              "\n",
              "<svg xmlns=\"http://www.w3.org/2000/svg\" height=\"24px\"viewBox=\"0 0 24 24\"\n",
              "     width=\"24px\">\n",
              "    <g>\n",
              "        <path d=\"M19 3H5c-1.1 0-2 .9-2 2v14c0 1.1.9 2 2 2h14c1.1 0 2-.9 2-2V5c0-1.1-.9-2-2-2zM9 17H7v-7h2v7zm4 0h-2V7h2v10zm4 0h-2v-4h2v4z\"/>\n",
              "    </g>\n",
              "</svg>\n",
              "  </button>\n",
              "\n",
              "<style>\n",
              "  .colab-df-quickchart {\n",
              "      --bg-color: #E8F0FE;\n",
              "      --fill-color: #1967D2;\n",
              "      --hover-bg-color: #E2EBFA;\n",
              "      --hover-fill-color: #174EA6;\n",
              "      --disabled-fill-color: #AAA;\n",
              "      --disabled-bg-color: #DDD;\n",
              "  }\n",
              "\n",
              "  [theme=dark] .colab-df-quickchart {\n",
              "      --bg-color: #3B4455;\n",
              "      --fill-color: #D2E3FC;\n",
              "      --hover-bg-color: #434B5C;\n",
              "      --hover-fill-color: #FFFFFF;\n",
              "      --disabled-bg-color: #3B4455;\n",
              "      --disabled-fill-color: #666;\n",
              "  }\n",
              "\n",
              "  .colab-df-quickchart {\n",
              "    background-color: var(--bg-color);\n",
              "    border: none;\n",
              "    border-radius: 50%;\n",
              "    cursor: pointer;\n",
              "    display: none;\n",
              "    fill: var(--fill-color);\n",
              "    height: 32px;\n",
              "    padding: 0;\n",
              "    width: 32px;\n",
              "  }\n",
              "\n",
              "  .colab-df-quickchart:hover {\n",
              "    background-color: var(--hover-bg-color);\n",
              "    box-shadow: 0 1px 2px rgba(60, 64, 67, 0.3), 0 1px 3px 1px rgba(60, 64, 67, 0.15);\n",
              "    fill: var(--button-hover-fill-color);\n",
              "  }\n",
              "\n",
              "  .colab-df-quickchart-complete:disabled,\n",
              "  .colab-df-quickchart-complete:disabled:hover {\n",
              "    background-color: var(--disabled-bg-color);\n",
              "    fill: var(--disabled-fill-color);\n",
              "    box-shadow: none;\n",
              "  }\n",
              "\n",
              "  .colab-df-spinner {\n",
              "    border: 2px solid var(--fill-color);\n",
              "    border-color: transparent;\n",
              "    border-bottom-color: var(--fill-color);\n",
              "    animation:\n",
              "      spin 1s steps(1) infinite;\n",
              "  }\n",
              "\n",
              "  @keyframes spin {\n",
              "    0% {\n",
              "      border-color: transparent;\n",
              "      border-bottom-color: var(--fill-color);\n",
              "      border-left-color: var(--fill-color);\n",
              "    }\n",
              "    20% {\n",
              "      border-color: transparent;\n",
              "      border-left-color: var(--fill-color);\n",
              "      border-top-color: var(--fill-color);\n",
              "    }\n",
              "    30% {\n",
              "      border-color: transparent;\n",
              "      border-left-color: var(--fill-color);\n",
              "      border-top-color: var(--fill-color);\n",
              "      border-right-color: var(--fill-color);\n",
              "    }\n",
              "    40% {\n",
              "      border-color: transparent;\n",
              "      border-right-color: var(--fill-color);\n",
              "      border-top-color: var(--fill-color);\n",
              "    }\n",
              "    60% {\n",
              "      border-color: transparent;\n",
              "      border-right-color: var(--fill-color);\n",
              "    }\n",
              "    80% {\n",
              "      border-color: transparent;\n",
              "      border-right-color: var(--fill-color);\n",
              "      border-bottom-color: var(--fill-color);\n",
              "    }\n",
              "    90% {\n",
              "      border-color: transparent;\n",
              "      border-bottom-color: var(--fill-color);\n",
              "    }\n",
              "  }\n",
              "</style>\n",
              "\n",
              "  <script>\n",
              "    async function quickchart(key) {\n",
              "      const quickchartButtonEl =\n",
              "        document.querySelector('#' + key + ' button');\n",
              "      quickchartButtonEl.disabled = true;  // To prevent multiple clicks.\n",
              "      quickchartButtonEl.classList.add('colab-df-spinner');\n",
              "      try {\n",
              "        const charts = await google.colab.kernel.invokeFunction(\n",
              "            'suggestCharts', [key], {});\n",
              "      } catch (error) {\n",
              "        console.error('Error during call to suggestCharts:', error);\n",
              "      }\n",
              "      quickchartButtonEl.classList.remove('colab-df-spinner');\n",
              "      quickchartButtonEl.classList.add('colab-df-quickchart-complete');\n",
              "    }\n",
              "    (() => {\n",
              "      let quickchartButtonEl =\n",
              "        document.querySelector('#df-5872ef23-1bbc-477f-99de-ee2c95070bd9 button');\n",
              "      quickchartButtonEl.style.display =\n",
              "        google.colab.kernel.accessAllowed ? 'block' : 'none';\n",
              "    })();\n",
              "  </script>\n",
              "</div>\n",
              "    </div>\n",
              "  </div>\n"
            ],
            "text/plain": [
              "    city1 country1    city2     country2\n",
              "0  Athens   Greece  Bangkok     Thailand\n",
              "1  Athens   Greece  Beijing        China\n",
              "2  Athens   Greece   Berlin      Germany\n",
              "3  Athens   Greece     Bern  Switzerland\n",
              "4  Athens   Greece    Cairo        Egypt"
            ]
          },
          "execution_count": 5,
          "metadata": {},
          "output_type": "execute_result"
        }
      ],
      "source": [
        "data = pd.read_csv('capitals.txt', delimiter=' ')\n",
        "data.columns = ['city1', 'country1', 'city2', 'country2']\n",
        "\n",
        "# print first five elements in the DataFrame\n",
        "data.head(5)"
      ]
    },
    {
      "cell_type": "code",
      "execution_count": 6,
      "metadata": {
        "colab": {
          "base_uri": "https://localhost:8080/"
        },
        "id": "QNlvlNRpTMAd",
        "outputId": "15f61980-6bb8-4174-e606-1cdba5e7aed7"
      },
      "outputs": [
        {
          "data": {
            "text/plain": [
              "243"
            ]
          },
          "execution_count": 6,
          "metadata": {},
          "output_type": "execute_result"
        }
      ],
      "source": [
        "word_embeddings = pickle.load(open(\"word_embeddings_subset.p\", \"rb\"))\n",
        "len(word_embeddings)"
      ]
    },
    {
      "cell_type": "markdown",
      "metadata": {
        "id": "p38Ri0mRTmta"
      },
      "source": [
        "Each of the word embedding is a 300-dimensional vector."
      ]
    },
    {
      "cell_type": "code",
      "execution_count": 7,
      "metadata": {
        "colab": {
          "base_uri": "https://localhost:8080/"
        },
        "id": "m_4SS6KNTopY",
        "outputId": "5abc9665-3a11-426c-a876-d1d328cd48f2"
      },
      "outputs": [
        {
          "name": "stdout",
          "output_type": "stream",
          "text": [
            "dimension: 300\n"
          ]
        }
      ],
      "source": [
        "print(\"dimension: {}\".format(word_embeddings['Spain'].shape[0]))"
      ]
    },
    {
      "cell_type": "code",
      "execution_count": 8,
      "metadata": {
        "colab": {
          "base_uri": "https://localhost:8080/"
        },
        "id": "t_NyR3aoT0h0",
        "outputId": "ed77a141-3189-4fdf-f8ea-b481cb5aa983"
      },
      "outputs": [
        {
          "data": {
            "text/plain": [
              "array([ 3.14941406e-02, -1.82617188e-01,  1.63085938e-01,  1.24511719e-01,\n",
              "       -1.85546875e-02, -1.73828125e-01, -1.21093750e-01, -1.32812500e-01,\n",
              "       -1.25000000e-01,  2.45117188e-01, -2.18750000e-01,  4.29687500e-02,\n",
              "        1.66015625e-01, -1.14746094e-01, -7.37304688e-02,  2.81982422e-02,\n",
              "        7.71484375e-02,  1.39648438e-01,  1.06445312e-01,  3.98437500e-01,\n",
              "        3.18359375e-01, -3.34472656e-02,  3.80859375e-02,  2.15820312e-01,\n",
              "       -3.93676758e-03,  4.95605469e-02, -1.81640625e-01, -1.77734375e-01,\n",
              "       -2.17773438e-01,  2.28515625e-01,  1.47460938e-01,  2.80761719e-02,\n",
              "        4.08935547e-03, -9.32617188e-02, -1.15722656e-01, -1.01318359e-02,\n",
              "       -3.69140625e-01, -1.53320312e-01,  6.07910156e-02,  1.50146484e-02,\n",
              "        1.42578125e-01,  4.63867188e-03,  7.12890625e-02,  2.69531250e-01,\n",
              "        1.96289062e-01,  6.73828125e-02,  1.64794922e-03, -7.61718750e-02,\n",
              "       -8.15429688e-02,  2.51953125e-01, -1.38671875e-01,  2.61718750e-01,\n",
              "        1.13525391e-02, -3.22265625e-02, -1.71875000e-01,  1.67968750e-01,\n",
              "       -3.35937500e-01,  8.10546875e-02, -1.99218750e-01,  1.17187500e-01,\n",
              "       -2.94189453e-02,  6.83593750e-02, -1.68945312e-01, -2.47070312e-01,\n",
              "        2.60009766e-02, -1.35742188e-01,  1.30859375e-01, -1.85546875e-01,\n",
              "       -2.03857422e-02,  2.55126953e-02, -2.14843750e-01, -6.39648438e-02,\n",
              "       -6.98852539e-03,  2.04101562e-01,  2.84423828e-02,  3.68652344e-02,\n",
              "        1.25000000e-01, -1.23046875e-01, -1.58691406e-02,  9.76562500e-02,\n",
              "        1.46484375e-03,  3.41796875e-02, -9.58251953e-03, -2.45117188e-01,\n",
              "        3.14941406e-02, -8.34960938e-02, -2.57812500e-01,  1.53320312e-01,\n",
              "        2.14843750e-02,  1.03515625e-01,  2.16796875e-01, -1.95312500e-02,\n",
              "       -2.77343750e-01,  1.28906250e-01, -3.71093750e-02,  7.11059570e-03,\n",
              "        1.69372559e-03, -2.87109375e-01,  2.47070312e-01,  1.36718750e-01,\n",
              "       -2.37304688e-01,  4.17480469e-02, -7.81250000e-02,  2.21679688e-01,\n",
              "        1.81640625e-01, -7.81250000e-02, -2.54821777e-03, -2.65625000e-01,\n",
              "       -2.07519531e-02, -8.00781250e-02,  1.31835938e-01,  1.01074219e-01,\n",
              "        2.26562500e-01, -1.92382812e-01,  4.46777344e-02,  6.64062500e-02,\n",
              "       -1.93359375e-01,  1.08398438e-01,  4.25781250e-01,  2.55859375e-01,\n",
              "       -2.75878906e-02, -2.08984375e-01,  1.44531250e-01, -1.61132812e-01,\n",
              "        1.14257812e-01, -1.91406250e-01,  1.24023438e-01, -1.61132812e-01,\n",
              "       -5.70312500e-01,  1.08886719e-01, -1.89453125e-01, -4.56542969e-02,\n",
              "       -2.75390625e-01, -1.00585938e-01,  5.63964844e-02, -2.37304688e-01,\n",
              "       -2.33398438e-01,  1.22070312e-01,  9.52148438e-02, -2.25585938e-01,\n",
              "       -3.68652344e-02, -2.00195312e-01, -7.61718750e-02, -3.97949219e-02,\n",
              "        2.61718750e-01,  2.44140625e-02,  8.00781250e-02,  3.93066406e-02,\n",
              "       -5.71289062e-02, -1.15234375e-01, -2.81982422e-02, -6.34765625e-02,\n",
              "       -1.95312500e-01, -1.78710938e-01,  1.21093750e-01, -1.35742188e-01,\n",
              "       -4.39453125e-01,  4.58984375e-02,  4.76074219e-02,  2.86865234e-02,\n",
              "        2.06298828e-02,  3.04687500e-01,  3.78417969e-02, -7.37304688e-02,\n",
              "        2.75390625e-01, -2.02636719e-02,  2.95410156e-02,  8.17871094e-03,\n",
              "       -7.66601562e-02,  9.66796875e-02, -2.09960938e-01,  1.23046875e-01,\n",
              "        1.71875000e-01, -1.55029297e-02, -1.05468750e-01, -4.76074219e-02,\n",
              "        9.42382812e-02, -1.46484375e-01,  1.87988281e-02, -2.39257812e-02,\n",
              "       -1.94335938e-01, -2.89062500e-01, -2.87109375e-01, -4.37011719e-02,\n",
              "        2.53906250e-01, -2.01171875e-01,  1.61132812e-01,  1.73950195e-03,\n",
              "       -6.98242188e-02,  1.50390625e-01, -7.12890625e-02,  5.73730469e-02,\n",
              "        1.08642578e-02,  2.28271484e-02, -4.29687500e-02,  3.51562500e-01,\n",
              "        9.66796875e-02, -1.11328125e-01, -1.28906250e-01, -2.21679688e-01,\n",
              "        9.22851562e-02, -1.06933594e-01, -1.41601562e-01, -4.15039062e-02,\n",
              "        1.72851562e-01, -1.26953125e-01, -4.49218750e-02, -6.29882812e-02,\n",
              "        4.54101562e-02, -1.72851562e-01,  1.01074219e-01, -1.98242188e-01,\n",
              "       -1.58203125e-01,  1.42578125e-01, -1.66015625e-01, -9.71679688e-02,\n",
              "       -2.05078125e-02, -2.42187500e-01, -6.54296875e-02,  8.15429688e-02,\n",
              "        9.17968750e-02, -2.67578125e-01, -1.59179688e-01, -1.36718750e-01,\n",
              "       -4.27734375e-01, -9.76562500e-02,  1.36718750e-01,  1.64062500e-01,\n",
              "        3.71093750e-01, -3.49121094e-02, -2.10937500e-01, -9.66796875e-02,\n",
              "        4.85839844e-02,  6.78710938e-02, -3.22265625e-02, -2.02636719e-02,\n",
              "       -7.81250000e-02,  8.74023438e-02,  1.96533203e-02, -8.74023438e-02,\n",
              "       -5.37109375e-02, -1.05957031e-01,  1.50390625e-01,  4.49218750e-02,\n",
              "       -8.15429688e-02, -2.80761719e-02, -1.55273438e-01, -1.77734375e-01,\n",
              "       -1.35742188e-01,  5.54199219e-02,  2.40234375e-01, -7.86781311e-05,\n",
              "        6.15234375e-02,  1.82617188e-01,  1.40625000e-01,  5.66406250e-02,\n",
              "        1.19140625e-01,  6.49414062e-02, -6.05468750e-02, -4.49218750e-02,\n",
              "        1.30859375e-01,  1.76757812e-01,  8.54492188e-02,  1.73339844e-02,\n",
              "        1.71875000e-01,  1.63574219e-02, -2.61718750e-01, -1.73828125e-01,\n",
              "        1.63574219e-02, -9.70458984e-03, -1.60156250e-01,  3.75000000e-01,\n",
              "        2.69531250e-01, -5.98144531e-02,  2.01171875e-01, -7.08007812e-03,\n",
              "       -1.96289062e-01,  2.79541016e-02, -2.27539062e-01,  2.34375000e-02,\n",
              "       -1.53320312e-01, -4.51660156e-02, -3.08837891e-02, -1.51367188e-01,\n",
              "       -2.17773438e-01, -1.34277344e-02, -2.51464844e-02, -2.19726562e-02,\n",
              "       -1.04980469e-01,  2.04101562e-01,  1.07421875e-01,  2.15820312e-01,\n",
              "        1.48437500e-01,  1.15234375e-01, -1.76757812e-01,  1.44531250e-01,\n",
              "       -1.35742188e-01,  3.75976562e-02,  1.96289062e-01,  1.79687500e-01],\n",
              "      dtype=float32)"
            ]
          },
          "execution_count": 8,
          "metadata": {},
          "output_type": "execute_result"
        }
      ],
      "source": [
        "word_embeddings['Spain']"
      ]
    },
    {
      "cell_type": "markdown",
      "metadata": {
        "id": "a-ouNDVeUbMq"
      },
      "source": [
        "**Predict relationships among words**\n",
        "\n",
        "Now you will write a function that will use the word embeddings to predict relationships among words.\n",
        "\n",
        "The function will take as input three words.\n",
        "\n",
        "The first two are related to each other.\n",
        "\n",
        "It will predict a 4th word which is related to the third word in a similar manner as the two first words are related to each other.\n",
        "\n",
        "As an example, \"Athens is to Greece as Bangkok is to ______\"?\n",
        "\n",
        "You will write a program that is capable of finding the fourth word.\n",
        "\n",
        "We will give you a hint to show you how to compute this.\n"
      ]
    },
    {
      "cell_type": "markdown",
      "metadata": {
        "id": "SKHyl0u6WHR_"
      },
      "source": [
        "![image.png](data:image/png;base64,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)"
      ]
    },
    {
      "cell_type": "code",
      "execution_count": 35,
      "metadata": {
        "id": "RVIRt7wLVmoh"
      },
      "outputs": [],
      "source": [
        "def cosine_similarity(A, B):\n",
        "    '''\n",
        "    Input:\n",
        "        A: a numpy array which corresponds to a word vector\n",
        "        B: A numpy array which corresponds to a word vector\n",
        "    Output:\n",
        "        cos: numerical number representing the cosine similarity between A and B.\n",
        "    '''\n",
        "\n",
        "    dot = np.dot(A, B)\n",
        "    # norma = np.sqrt(np.dot(A,A))\n",
        "    # normb = np.sqrt(np.dot(B,B))\n",
        "    norma = np.linalg.norm(A)\n",
        "    normb = np.linalg.norm(B)\n",
        "    cos = dot/(norma * normb)\n",
        "\n",
        "    return cos"
      ]
    },
    {
      "cell_type": "code",
      "execution_count": 31,
      "metadata": {
        "colab": {
          "base_uri": "https://localhost:8080/"
        },
        "id": "p4WlRO5ZatSo",
        "outputId": "a15b565c-39e6-4e45-972b-1fc8b6dd8d9d"
      },
      "outputs": [
        {
          "data": {
            "text/plain": [
              "0.6510956"
            ]
          },
          "execution_count": 31,
          "metadata": {},
          "output_type": "execute_result"
        }
      ],
      "source": [
        "# feel free to try different words\n",
        "king = word_embeddings['king']\n",
        "queen = word_embeddings['queen']\n",
        "\n",
        "cosine_similarity(king, queen)\n"
      ]
    },
    {
      "cell_type": "markdown",
      "metadata": {
        "id": "YKws9ABrbQAK"
      },
      "source": [
        "** Euclidean distance**\n",
        "\n",
        "![image.png](data:image/png;base64,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)\n"
      ]
    },
    {
      "cell_type": "code",
      "execution_count": 11,
      "metadata": {
        "id": "SfY0kBBpb1IB"
      },
      "outputs": [],
      "source": [
        "def euclidean(A, B):\n",
        "    \"\"\"\n",
        "    Input:\n",
        "        A: a numpy array which corresponds to a word vector\n",
        "        B: A numpy array which corresponds to a word vector\n",
        "    Output:\n",
        "        d: numerical number representing the Euclidean distance between A and B.\n",
        "    \"\"\"\n",
        "    d = np.linalg.norm(A - B)\n",
        "\n",
        "    return d\n"
      ]
    },
    {
      "cell_type": "code",
      "execution_count": 12,
      "metadata": {
        "colab": {
          "base_uri": "https://localhost:8080/"
        },
        "id": "vPIjh16qcQ0q",
        "outputId": "b141997b-8d55-4d6d-e07a-58d955f82d96"
      },
      "outputs": [
        {
          "data": {
            "text/plain": [
              "2.4796925"
            ]
          },
          "execution_count": 12,
          "metadata": {},
          "output_type": "execute_result"
        }
      ],
      "source": [
        "# Test your function\n",
        "euclidean(king, queen)"
      ]
    },
    {
      "cell_type": "markdown",
      "metadata": {
        "id": "8HyXNgUqdFnK"
      },
      "source": [
        "**Finding the country of each capital**\n",
        "\n",
        "We will use the previous functions to compute similarities between vectors, and use these to find the capital cities of countries. You will write a function that takes in three words, and the embeddings dictionary. Your task is to find the capital cities. For example, given the following words:\n",
        "\n",
        "1: Athens 2: Greece 3: Baghdad,\n",
        "your task is to predict the country 4: Iraq.\n",
        "\n",
        "To predict the capital you might want to look at the King - Man + Woman = Queen example above, and implement that scheme into a mathematical function, using the word embeddings and a similarity function.\n",
        "\n",
        "Iterate over the embeddings dictionary and compute the cosine similarity score between your vector and the current word embedding."
      ]
    },
    {
      "cell_type": "code",
      "execution_count": 33,
      "metadata": {
        "id": "pBSVnty5gGh_"
      },
      "outputs": [],
      "source": [
        "def get_country(city1, country1, city2, embeddings):\n",
        "    \"\"\"\n",
        "    Input:\n",
        "        city1: a string (the capital city of country1)\n",
        "        country1: a string (the country of capital1)\n",
        "        city2: a string (the capital city of country2)\n",
        "        embeddings: a dictionary where the keys are words and values are their embeddings\n",
        "    Output:\n",
        "        countries: a dictionary with the most likely country and its similarity score\n",
        "    \"\"\"\n",
        "    group = set((city1, country1, city2))\n",
        "\n",
        "    # Get embedding of city 1\n",
        "    city1_emb = embeddings[city1]\n",
        "\n",
        "    # Get embedding of country 1\n",
        "    country1_emb = embeddings[country1]\n",
        "\n",
        "    # Get embedding of city 2\n",
        "    city2_emb = embeddings[city2]\n",
        "\n",
        "    # get embedding of country 2 (it's a combination of the embeddings of country 1, city 1 and city 2)\n",
        "    # Remember: King - Man + Woman = Queen\n",
        "    vec = country1_emb - city1_emb + city2_emb\n",
        "\n",
        "    # Initialize the similarity to -1 (it will be replaced by a similarities that are closer to +1)\n",
        "    similarity = -1\n",
        "\n",
        "    # initialize country to an empty string\n",
        "    country = ''\n",
        "\n",
        "    # loop through all words in the embeddings dictionary\n",
        "    for word in embeddings.keys():\n",
        "\n",
        "      # First Check  that the word is not already in the 'group'\n",
        "      if word not in group:\n",
        "\n",
        "        # Get the word embedding\n",
        "        word_emb = embeddings[word]\n",
        "\n",
        "        # Calculate cosine similarity between embedding of country 2 and the word in the embeddings dictionary\n",
        "        cur_similarity = cosine_similarity(vec, word_emb)\n",
        "\n",
        "        # if the cosine similarity is more similar than the previously best similarity...\n",
        "        if cur_similarity > similarity:\n",
        "          similarity = cur_similarity\n",
        "\n",
        "          country = (word, similarity)\n",
        "\n",
        "    return country"
      ]
    },
    {
      "cell_type": "code",
      "execution_count": 34,
      "metadata": {
        "colab": {
          "base_uri": "https://localhost:8080/"
        },
        "id": "15lwjZjBmaAl",
        "outputId": "38cf9f54-7905-4a45-c931-03887385fa9f"
      },
      "outputs": [
        {
          "data": {
            "text/plain": [
              "('Egypt', 0.7626821)"
            ]
          },
          "execution_count": 34,
          "metadata": {},
          "output_type": "execute_result"
        }
      ],
      "source": [
        "# Testing your function, note to make it more robust you can return the 5 most similar words.\n",
        "get_country('Athens', 'Greece', 'Cairo', word_embeddings)"
      ]
    },
    {
      "cell_type": "markdown",
      "metadata": {
        "id": "VfFrbi34v0wt"
      },
      "source": [
        "**Model Accuracy**\n",
        "\n",
        "Accuracy = Correct # of predictions / Total # of predictions"
      ]
    },
    {
      "cell_type": "code",
      "execution_count": 37,
      "metadata": {
        "id": "XLrWasAawDJJ"
      },
      "outputs": [],
      "source": [
        "def get_accuracy(word_embeddings, data):\n",
        "    '''\n",
        "    Input:\n",
        "        word_embeddings: a dictionary where the key is a word and the value is its embedding\n",
        "        data: a pandas dataframe containing all the country and capital city pairs\n",
        "\n",
        "    Output:\n",
        "        accuracy: the accuracy of the model\n",
        "    '''\n",
        "    num_correct = 0\n",
        "\n",
        "    # Loop through the rows of the dataframe\n",
        "    for i , row in data.iterrows():\n",
        "\n",
        "      # Get city1\n",
        "      city1 = row[0]\n",
        "\n",
        "      # Get country 1\n",
        "      country1 = row[1]\n",
        "\n",
        "      # Get city2\n",
        "      city2 = row[2]\n",
        "\n",
        "      # Get country2\n",
        "      country2 = row[3]\n",
        "\n",
        "      # Use get_country to find the predicted country2\n",
        "      predicted_country2, _ = get_country(city1, country1, city2, word_embeddings)\n",
        "\n",
        "      # If the predicted country2 id the same as the actual country2\n",
        "      if predicted_country2 == country2:\n",
        "        num_correct += 1\n",
        "\n",
        "    # Get the number of rows in data dataframe\n",
        "    m = len(data)\n",
        "\n",
        "    # Calculate the accuracy by dividing the number correct by m\n",
        "\n",
        "    accuracy = num_correct / m\n",
        "\n",
        "    return accuracy\n",
        "\n",
        "\n"
      ]
    },
    {
      "cell_type": "code",
      "execution_count": 38,
      "metadata": {
        "colab": {
          "base_uri": "https://localhost:8080/"
        },
        "id": "l55h9yfvy8_k",
        "outputId": "cb2960e6-0250-46e4-fb5f-a5a138f26008"
      },
      "outputs": [
        {
          "name": "stdout",
          "output_type": "stream",
          "text": [
            "Accuracy is 0.92\n"
          ]
        }
      ],
      "source": [
        "accuracy = get_accuracy(word_embeddings, data)\n",
        "print(f\"Accuracy is {accuracy:.2f}\")"
      ]
    },
    {
      "cell_type": "markdown",
      "metadata": {
        "id": "iDXTotG2zNHk"
      },
      "source": [
        "**Plotting the vectors using PCA**\n",
        "\n",
        "You can think of PCA as a method that projects our vectors in a space of reduced dimension, while keeping the maximum information about the original vectors in their reduced counterparts. In this case, by maximum infomation we mean that the Euclidean distance between the original vectors and their projected siblings is minimal. Hence vectors that were originally close in the embeddings dictionary, will produce lower dimensional vectors that are still close to each other.\n",
        "\n",
        "Before plotting the words, you need to first be able to reduce each word vector with PCA into 2 dimensions and then plot it. The steps to compute PCA are as follows:\n",
        "\n",
        "1. Mean normalize the data\n",
        "\n",
        "2. Compute the covariance matrix of your data\n",
        "\n",
        "3. Compute the eigenvectors and the eigenvalues of your covariance matrix\n",
        "\n",
        "4. Multiply the first K eigenvectors by your normalized data. The transformation should look something as follows:\n"
      ]
    },
    {
      "cell_type": "code",
      "execution_count": 39,
      "metadata": {
        "id": "k2UM-eiX4ASc"
      },
      "outputs": [],
      "source": [
        "def compute_pca(X, n_components = 2):\n",
        "\n",
        "    \"\"\"\n",
        "    Input:\n",
        "        X: of dimension (m,n) where each row corresponds to a word vector\n",
        "        n_components: Number of components you want to keep.\n",
        "    Output:\n",
        "        X_reduced: data transformed in 2 dims/columns + regenerated original data\n",
        "    \"\"\"\n",
        "\n",
        "    # Mean center the data\n",
        "    X_demeaned = X - np.mean(X, axis = 0)\n",
        "\n",
        "    # Calculate the covariance matrix\n",
        "    covariance_matrix = np.cov(X_demeaned, rowvar = False)\n",
        "\n",
        "    # Calculate eigenvectors & eigenvalues of the covariance matrix\n",
        "    eigen_vals, eigen_vecs = np.linalg.eigh(covariance_matrix, UPLO='L')\n",
        "\n",
        "    # Sort eigenvalue in increasing order\n",
        "    idx_sorted = np.argsort(eigen_vals)\n",
        "\n",
        "    # Reverse the order so that it's from highest to lowest\n",
        "    idx_sorted_decreasing = idx_sorted[::-1]\n",
        "\n",
        "    # Sort the eigen values by idx_sorted_decreasing\n",
        "    eigen_vals_sorted = eigen_vals[idx_sorted_decreasing]\n",
        "\n",
        "    # Sort eigenvectors using by idx_sorted_decreasing indices\n",
        "    eigen_vecs_sorted = eigen_vecs[:, idx_sorted_decreasing]\n",
        "\n",
        "\n",
        "    # Select the first n eigenvectors\n",
        "    eigen_vecs_subset = eigen_vecs_sorted[:,0:n_components]\n",
        "\n",
        "    # transform the data by multiplying the transpose of the eigenvectors\n",
        "    # with the transpose of the de-meaned data\n",
        "    # Then take the transpose of that product.\n",
        "    X_reduced = np.dot(eigen_vecs_subset.transpose(),X_demeaned.transpose()).transpose()\n",
        "\n",
        "    return X_reduced"
      ]
    },
    {
      "cell_type": "code",
      "execution_count": 40,
      "metadata": {
        "colab": {
          "base_uri": "https://localhost:8080/"
        },
        "id": "RRsDizjD8ozE",
        "outputId": "14caccee-4a6b-4b2b-de09-a1731f3206b7"
      },
      "outputs": [
        {
          "name": "stdout",
          "output_type": "stream",
          "text": [
            "Your original matrix was (3, 10) and it became:\n",
            "[[ 0.43437323 -0.49820384]\n",
            " [ 0.42077249  0.50351448]\n",
            " [-0.85514571 -0.00531064]]\n"
          ]
        }
      ],
      "source": [
        "# Testing your function\n",
        "np.random.seed(1)\n",
        "X = np.random.rand(3, 10)\n",
        "X_reduced = compute_pca(X, n_components=2)\n",
        "print(\"Your original matrix was \" + str(X.shape) + \" and it became:\")\n",
        "print(X_reduced)"
      ]
    },
    {
      "cell_type": "markdown",
      "metadata": {
        "id": "wQ21CAou8xbj"
      },
      "source": [
        "Now you will use your pca function to plot a few words we have chosen for you. You will see that similar words tend to be clustered near each other. Sometimes, even antonyms tend to be clustered near each other. Antonyms describe the same thing but just tend to be on the other end of the scale They are usually found in the same location of a sentence, have the same parts of speech, and thus when learning the word vectors, you end up getting similar weights. In the next week we will go over how you learn them, but for now let's just enjoy using them."
      ]
    },
    {
      "cell_type": "code",
      "execution_count": 26,
      "metadata": {
        "colab": {
          "base_uri": "https://localhost:8080/"
        },
        "id": "jxmfGWvr8x_T",
        "outputId": "fe86414e-1c19-409b-cef7-c039da3928b3"
      },
      "outputs": [
        {
          "name": "stdout",
          "output_type": "stream",
          "text": [
            "You have 11 words each of 300 dimensions thus X.shape is: (11, 300)\n"
          ]
        }
      ],
      "source": [
        "words = ['oil', 'gas', 'happy', 'sad', 'city', 'town',\n",
        "         'village', 'country', 'continent', 'petroleum', 'joyful']\n",
        "\n",
        "# given a list of words and the embeddings, it returns a matrix with all the embeddings\n",
        "X = get_vectors(word_embeddings, words)\n",
        "\n",
        "print('You have 11 words each of 300 dimensions thus X.shape is:', X.shape)"
      ]
    },
    {
      "cell_type": "code",
      "execution_count": 27,
      "metadata": {
        "colab": {
          "base_uri": "https://localhost:8080/",
          "height": 434
        },
        "id": "W_veWbWM80mk",
        "outputId": "011b069a-c610-4de1-cd67-c399ed04814f"
      },
      "outputs": [
        {
          "data": {
            "image/png": "[encoded data removed]",
            "text/plain": [
              "<Figure size 640x480 with 1 Axes>"
            ]
          },
          "metadata": {},
          "output_type": "display_data"
        }
      ],
      "source": [
        "# We have done the plotting for you. Just run this cell.\n",
        "result = compute_pca(X, 2)\n",
        "plt.scatter(result[:, 0], result[:, 1])\n",
        "for i, word in enumerate(words):\n",
        "    plt.annotate(word, xy=(result[i, 0] - 0.05, result[i, 1] + 0.1))\n",
        "\n",
        "plt.show()"
      ]
    },
    {
      "cell_type": "markdown",
      "metadata": {
        "id": "1Jsuhr8S8L2r"
      },
      "source": []
    }
  ],
  "metadata": {
    "colab": {
      "provenance": []
    },
    "kernelspec": {
      "display_name": "PyTorch",
      "language": "python",
      "name": "pytorch"
    },
    "language_info": {
      "name": "python",
      "version": "3.10.4"
    }
  },
  "nbformat": 4,
  "nbformat_minor": 0
}
