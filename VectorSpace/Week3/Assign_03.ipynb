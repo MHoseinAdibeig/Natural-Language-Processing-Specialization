{
 "cells": [
  {
   "cell_type": "markdown",
   "metadata": {},
   "source": [
    "**Word Vectors**\n",
    "\n",
    "In natural language processing, we represent each word as a vector consisting of numbers. The vector encodes the meaning of the word. These numbers (or weights) for each word are learned using various machine learning models, which we will explore in more detail later in this specialization. Rather than make you code the machine learning models from scratch, we will show you how to use them. In the real world, you can always load the trained word vectors, and you will almost never have to train them from scratch.\n",
    "\n",
    "We will:\n",
    "\n",
    "1. Predict analogies between words.\n",
    "\n",
    "2. Use PCA to reduce the dimensionality of the word embeddings and plot them in two dimensions.\n",
    "\n",
    "3. Compare word embeddings by using a similarity measure (the cosine similarity).\n",
    "\n",
    "4. Understand how these vector space models work."
   ]
  },
  {
   "cell_type": "markdown",
   "metadata": {},
   "source": [
    "**Predict the Countries from Capitals**\n",
    "\n",
    "We have illustrated the word analogies by finding the capital of a country from the country. We have changed the problem a bit in this part of the assignment. You are asked to predict the countries that corresponds to some capitals. You are playing trivia against some second grader who just took their geography test and knows all the capitals by heart. Thanks to NLP, you will be able to answer the questions properly. In other words, you will write a program that can give you the country by its capital. That way you are pretty sure you will win the trivia game. We will start by exploring the data set.\n"
   ]
  },
  {
   "cell_type": "code",
   "execution_count": 1,
   "metadata": {},
   "outputs": [],
   "source": [
    "import pickle\n",
    "import numpy as np\n",
    "import pandas as pd\n",
    "import matplotlib.pyplot as plt\n",
    "\n",
    "# from utils import get_vectors"
   ]
  },
  {
   "cell_type": "code",
   "execution_count": 2,
   "metadata": {},
   "outputs": [],
   "source": [
    "import numpy as np\n",
    "\n",
    "\n",
    "def get_vectors(embeddings, words):\n",
    "    \"\"\"\n",
    "    Input:\n",
    "        embeddings: a word \n",
    "        fr_embeddings:\n",
    "        words: a list of words\n",
    "    Output: \n",
    "        X: a matrix where the rows are the embeddings corresponding to the rows on the list\n",
    "        \n",
    "    \"\"\"\n",
    "    m = len(words)\n",
    "    X = np.zeros((1, 300))\n",
    "    for word in words:\n",
    "        english = word\n",
    "        eng_emb = embeddings[english]\n",
    "        X = np.row_stack((X, eng_emb))\n",
    "    X = X[1:,:]\n",
    "    return X"
   ]
  },
  {
   "cell_type": "code",
   "execution_count": 4,
   "metadata": {},
   "outputs": [
    {
     "data": {
      "text/html": [
       "<div>\n",
       "<style scoped>\n",
       "    .dataframe tbody tr th:only-of-type {\n",
       "        vertical-align: middle;\n",
       "    }\n",
       "\n",
       "    .dataframe tbody tr th {\n",
       "        vertical-align: top;\n",
       "    }\n",
       "\n",
       "    .dataframe thead th {\n",
       "        text-align: right;\n",
       "    }\n",
       "</style>\n",
       "<table border=\"1\" class=\"dataframe\">\n",
       "  <thead>\n",
       "    <tr style=\"text-align: right;\">\n",
       "      <th></th>\n",
       "      <th>city1</th>\n",
       "      <th>country1</th>\n",
       "      <th>city2</th>\n",
       "      <th>country2</th>\n",
       "    </tr>\n",
       "  </thead>\n",
       "  <tbody>\n",
       "    <tr>\n",
       "      <th>0</th>\n",
       "      <td>Athens</td>\n",
       "      <td>Greece</td>\n",
       "      <td>Bangkok</td>\n",
       "      <td>Thailand</td>\n",
       "    </tr>\n",
       "    <tr>\n",
       "      <th>1</th>\n",
       "      <td>Athens</td>\n",
       "      <td>Greece</td>\n",
       "      <td>Beijing</td>\n",
       "      <td>China</td>\n",
       "    </tr>\n",
       "    <tr>\n",
       "      <th>2</th>\n",
       "      <td>Athens</td>\n",
       "      <td>Greece</td>\n",
       "      <td>Berlin</td>\n",
       "      <td>Germany</td>\n",
       "    </tr>\n",
       "    <tr>\n",
       "      <th>3</th>\n",
       "      <td>Athens</td>\n",
       "      <td>Greece</td>\n",
       "      <td>Bern</td>\n",
       "      <td>Switzerland</td>\n",
       "    </tr>\n",
       "    <tr>\n",
       "      <th>4</th>\n",
       "      <td>Athens</td>\n",
       "      <td>Greece</td>\n",
       "      <td>Cairo</td>\n",
       "      <td>Egypt</td>\n",
       "    </tr>\n",
       "  </tbody>\n",
       "</table>\n",
       "</div>"
      ],
      "text/plain": [
       "    city1 country1    city2     country2\n",
       "0  Athens   Greece  Bangkok     Thailand\n",
       "1  Athens   Greece  Beijing        China\n",
       "2  Athens   Greece   Berlin      Germany\n",
       "3  Athens   Greece     Bern  Switzerland\n",
       "4  Athens   Greece    Cairo        Egypt"
      ]
     },
     "execution_count": 4,
     "metadata": {},
     "output_type": "execute_result"
    }
   ],
   "source": [
    "data = pd.read_csv('capitals.txt', delimiter = ' ')\n",
    "data.columns = ['city1', 'country1', 'city2', 'country2']\n",
    "data.head(5)"
   ]
  },
  {
   "cell_type": "code",
   "execution_count": 6,
   "metadata": {},
   "outputs": [
    {
     "name": "stdout",
     "output_type": "stream",
     "text": [
      "Collecting gensim\n",
      "  Downloading gensim-4.3.2-cp310-cp310-win_amd64.whl.metadata (8.5 kB)\n",
      "Requirement already satisfied: numpy>=1.18.5 in c:\\users\\mit\\documents\\pythonprojects\\env\\dlogger\\lib\\site-packages (from gensim) (1.23.5)\n",
      "Requirement already satisfied: scipy>=1.7.0 in c:\\users\\mit\\documents\\pythonprojects\\env\\dlogger\\lib\\site-packages (from gensim) (1.9.3)\n",
      "Collecting smart-open>=1.8.1 (from gensim)\n",
      "  Downloading smart_open-7.0.4-py3-none-any.whl.metadata (23 kB)\n",
      "Collecting wrapt (from smart-open>=1.8.1->gensim)\n",
      "  Downloading wrapt-1.16.0-cp310-cp310-win_amd64.whl.metadata (6.8 kB)\n",
      "Downloading gensim-4.3.2-cp310-cp310-win_amd64.whl (24.0 MB)\n",
      "   ---------------------------------------- 0.0/24.0 MB ? eta -:--:--\n",
      "   ---------------------------------------- 0.0/24.0 MB 1.3 MB/s eta 0:00:19\n",
      "   ---------------------------------------- 0.1/24.0 MB 653.6 kB/s eta 0:00:37\n",
      "   ---------------------------------------- 0.1/24.0 MB 1.2 MB/s eta 0:00:20\n",
      "   ---------------------------------------- 0.2/24.0 MB 1.3 MB/s eta 0:00:20\n",
      "    --------------------------------------- 0.3/24.0 MB 1.4 MB/s eta 0:00:17\n",
      "    --------------------------------------- 0.5/24.0 MB 1.6 MB/s eta 0:00:16\n",
      "   - -------------------------------------- 0.7/24.0 MB 2.1 MB/s eta 0:00:12\n",
      "   - -------------------------------------- 0.9/24.0 MB 2.5 MB/s eta 0:00:10\n",
      "   -- ------------------------------------- 1.2/24.0 MB 2.8 MB/s eta 0:00:09\n",
      "   -- ------------------------------------- 1.5/24.0 MB 3.1 MB/s eta 0:00:08\n",
      "   -- ------------------------------------- 1.8/24.0 MB 3.4 MB/s eta 0:00:07\n",
      "   --- ------------------------------------ 2.1/24.0 MB 3.7 MB/s eta 0:00:06\n",
      "   --- ------------------------------------ 2.4/24.0 MB 3.9 MB/s eta 0:00:06\n",
      "   ---- ----------------------------------- 2.7/24.0 MB 4.0 MB/s eta 0:00:06\n",
      "   ---- ----------------------------------- 3.0/24.0 MB 4.2 MB/s eta 0:00:05\n",
      "   ----- ---------------------------------- 3.2/24.0 MB 4.3 MB/s eta 0:00:05\n",
      "   ----- ---------------------------------- 3.5/24.0 MB 4.4 MB/s eta 0:00:05\n",
      "   ------ --------------------------------- 3.8/24.0 MB 4.5 MB/s eta 0:00:05\n",
      "   ------- -------------------------------- 4.2/24.0 MB 4.7 MB/s eta 0:00:05\n",
      "   ------- -------------------------------- 4.5/24.0 MB 4.8 MB/s eta 0:00:05\n",
      "   -------- ------------------------------- 5.0/24.0 MB 5.0 MB/s eta 0:00:04\n",
      "   -------- ------------------------------- 5.4/24.0 MB 5.2 MB/s eta 0:00:04\n",
      "   --------- ------------------------------ 5.5/24.0 MB 5.3 MB/s eta 0:00:04\n",
      "   --------- ------------------------------ 5.6/24.0 MB 4.9 MB/s eta 0:00:04\n",
      "   --------- ------------------------------ 5.9/24.0 MB 5.0 MB/s eta 0:00:04\n",
      "   ---------- ----------------------------- 6.3/24.0 MB 5.1 MB/s eta 0:00:04\n",
      "   ----------- ---------------------------- 6.6/24.0 MB 5.2 MB/s eta 0:00:04\n",
      "   ----------- ---------------------------- 7.0/24.0 MB 5.3 MB/s eta 0:00:04\n",
      "   ------------ --------------------------- 7.4/24.0 MB 5.3 MB/s eta 0:00:04\n",
      "   ------------ --------------------------- 7.7/24.0 MB 5.4 MB/s eta 0:00:04\n",
      "   ------------- -------------------------- 8.1/24.0 MB 5.5 MB/s eta 0:00:03\n",
      "   -------------- ------------------------- 8.4/24.0 MB 5.6 MB/s eta 0:00:03\n",
      "   -------------- ------------------------- 8.8/24.0 MB 5.6 MB/s eta 0:00:03\n",
      "   --------------- ------------------------ 9.2/24.0 MB 5.7 MB/s eta 0:00:03\n",
      "   ---------------- ----------------------- 9.6/24.0 MB 5.8 MB/s eta 0:00:03\n",
      "   ---------------- ----------------------- 9.9/24.0 MB 5.8 MB/s eta 0:00:03\n",
      "   ----------------- ---------------------- 10.2/24.0 MB 5.8 MB/s eta 0:00:03\n",
      "   ----------------- ---------------------- 10.6/24.0 MB 6.7 MB/s eta 0:00:02\n",
      "   ------------------ --------------------- 11.0/24.0 MB 6.8 MB/s eta 0:00:02\n",
      "   ------------------- -------------------- 11.4/24.0 MB 7.0 MB/s eta 0:00:02\n",
      "   ------------------- -------------------- 11.8/24.0 MB 7.0 MB/s eta 0:00:02\n",
      "   -------------------- ------------------- 12.2/24.0 MB 7.1 MB/s eta 0:00:02\n",
      "   -------------------- ------------------- 12.6/24.0 MB 7.2 MB/s eta 0:00:02\n",
      "   --------------------- ------------------ 12.9/24.0 MB 7.2 MB/s eta 0:00:02\n",
      "   ---------------------- ----------------- 13.3/24.0 MB 7.3 MB/s eta 0:00:02\n",
      "   ---------------------- ----------------- 13.6/24.0 MB 7.4 MB/s eta 0:00:02\n",
      "   ----------------------- ---------------- 14.0/24.0 MB 7.4 MB/s eta 0:00:02\n",
      "   ----------------------- ---------------- 14.4/24.0 MB 7.4 MB/s eta 0:00:02\n",
      "   ------------------------ --------------- 14.8/24.0 MB 7.5 MB/s eta 0:00:02\n",
      "   ------------------------- -------------- 15.2/24.0 MB 7.4 MB/s eta 0:00:02\n",
      "   -------------------------- ------------- 15.6/24.0 MB 7.4 MB/s eta 0:00:02\n",
      "   -------------------------- ------------- 16.0/24.0 MB 7.9 MB/s eta 0:00:02\n",
      "   -------------------------- ------------- 16.0/24.0 MB 7.9 MB/s eta 0:00:02\n",
      "   --------------------------- ------------ 16.3/24.0 MB 7.5 MB/s eta 0:00:02\n",
      "   --------------------------- ------------ 16.6/24.0 MB 7.5 MB/s eta 0:00:01\n",
      "   ---------------------------- ----------- 17.0/24.0 MB 7.6 MB/s eta 0:00:01\n",
      "   ---------------------------- ----------- 17.4/24.0 MB 7.5 MB/s eta 0:00:01\n",
      "   ----------------------------- ---------- 17.7/24.0 MB 7.5 MB/s eta 0:00:01\n",
      "   ----------------------------- ---------- 18.0/24.0 MB 7.5 MB/s eta 0:00:01\n",
      "   ------------------------------ --------- 18.4/24.0 MB 7.5 MB/s eta 0:00:01\n",
      "   ------------------------------- -------- 18.7/24.0 MB 7.4 MB/s eta 0:00:01\n",
      "   ------------------------------- -------- 19.2/24.0 MB 7.5 MB/s eta 0:00:01\n",
      "   -------------------------------- ------- 19.5/24.0 MB 7.4 MB/s eta 0:00:01\n",
      "   --------------------------------- ------ 19.9/24.0 MB 7.4 MB/s eta 0:00:01\n",
      "   --------------------------------- ------ 20.3/24.0 MB 7.5 MB/s eta 0:00:01\n",
      "   ---------------------------------- ----- 20.7/24.0 MB 7.6 MB/s eta 0:00:01\n",
      "   ----------------------------------- ---- 21.1/24.0 MB 7.5 MB/s eta 0:00:01\n",
      "   ----------------------------------- ---- 21.5/24.0 MB 7.6 MB/s eta 0:00:01\n",
      "   ------------------------------------ --- 21.9/24.0 MB 7.6 MB/s eta 0:00:01\n",
      "   ------------------------------------- -- 22.3/24.0 MB 7.6 MB/s eta 0:00:01\n",
      "   ------------------------------------- -- 22.7/24.0 MB 7.6 MB/s eta 0:00:01\n",
      "   -------------------------------------- - 23.1/24.0 MB 7.6 MB/s eta 0:00:01\n",
      "   ---------------------------------------  23.5/24.0 MB 7.7 MB/s eta 0:00:01\n",
      "   ---------------------------------------  23.9/24.0 MB 7.8 MB/s eta 0:00:01\n",
      "   ---------------------------------------  24.0/24.0 MB 7.8 MB/s eta 0:00:01\n",
      "   ---------------------------------------  24.0/24.0 MB 7.8 MB/s eta 0:00:01\n",
      "   ---------------------------------------- 24.0/24.0 MB 7.3 MB/s eta 0:00:00\n",
      "Downloading smart_open-7.0.4-py3-none-any.whl (61 kB)\n",
      "   ---------------------------------------- 0.0/61.2 kB ? eta -:--:--\n",
      "   ---------------------------------------- 61.2/61.2 kB 1.6 MB/s eta 0:00:00\n",
      "Downloading wrapt-1.16.0-cp310-cp310-win_amd64.whl (37 kB)\n",
      "Installing collected packages: wrapt, smart-open, gensim\n",
      "Successfully installed gensim-4.3.2 smart-open-7.0.4 wrapt-1.16.0\n",
      "Note: you may need to restart the kernel to use updated packages.\n"
     ]
    },
    {
     "name": "stderr",
     "output_type": "stream",
     "text": [
      "\n",
      "[notice] A new release of pip is available: 23.3.1 -> 24.0\n",
      "[notice] To update, run: python.exe -m pip install --upgrade pip\n"
     ]
    }
   ],
   "source": [
    "pip install gensim"
   ]
  },
  {
   "cell_type": "code",
   "execution_count": 7,
   "metadata": {},
   "outputs": [
    {
     "ename": "ImportError",
     "evalue": "cannot import name 'keyedVectors' from 'gensim.models' (c:\\Users\\Mit\\Documents\\PythonProjects\\ENV\\DLogger\\lib\\site-packages\\gensim\\models\\__init__.py)",
     "output_type": "error",
     "traceback": [
      "\u001b[1;31m---------------------------------------------------------------------------\u001b[0m",
      "\u001b[1;31mImportError\u001b[0m                               Traceback (most recent call last)",
      "Cell \u001b[1;32mIn[7], line 2\u001b[0m\n\u001b[0;32m      1\u001b[0m \u001b[38;5;28;01mimport\u001b[39;00m \u001b[38;5;21;01mnltk\u001b[39;00m\n\u001b[1;32m----> 2\u001b[0m \u001b[38;5;28;01mfrom\u001b[39;00m \u001b[38;5;21;01mgensim\u001b[39;00m\u001b[38;5;21;01m.\u001b[39;00m\u001b[38;5;21;01mmodels\u001b[39;00m \u001b[38;5;28;01mimport\u001b[39;00m keyedVectors\n",
      "\u001b[1;31mImportError\u001b[0m: cannot import name 'keyedVectors' from 'gensim.models' (c:\\Users\\Mit\\Documents\\PythonProjects\\ENV\\DLogger\\lib\\site-packages\\gensim\\models\\__init__.py)"
     ]
    }
   ],
   "source": [
    "import nltk\n",
    "from gensim.models import keyedVectors"
   ]
  }
 ],
 "metadata": {
  "kernelspec": {
   "display_name": "PyTorch",
   "language": "python",
   "name": "pytorch"
  },
  "language_info": {
   "codemirror_mode": {
    "name": "ipython",
    "version": 3
   },
   "file_extension": ".py",
   "mimetype": "text/x-python",
   "name": "python",
   "nbconvert_exporter": "python",
   "pygments_lexer": "ipython3",
   "version": "3.10.4"
  }
 },
 "nbformat": 4,
 "nbformat_minor": 2
}
